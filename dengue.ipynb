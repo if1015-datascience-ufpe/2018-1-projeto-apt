{
 "cells": [
  {
   "cell_type": "markdown",
   "metadata": {},
   "source": [
    "# Dengue"
   ]
  },
  {
   "cell_type": "code",
   "execution_count": null,
   "metadata": {
    "collapsed": false
   },
   "outputs": [],
   "source": [
    "import os.path\n",
    "import pandas as pd\n",
    "import requests"
   ]
  },
  {
   "cell_type": "code",
   "execution_count": null,
   "metadata": {
    "collapsed": false
   },
   "outputs": [],
   "source": [
    "database_url = 'http://dados.recife.pe.gov.br/dataset/2a9b1c39-0700-4ddf-9a10-b3c8d5d9396c/resource/2a2ef847-7063-462e-bf76-a49ebc9a6d13/download/casos-dengue2016.csv'\n",
    "database_file = 'casos-dengue2016.csv'\n",
    "\n",
    "if os.path.exists(database_file):\n",
    "    print('file already downloaded')\n",
    "else:\n",
    "    response = requests.get(database_url, stream=True)\n",
    "    if response.status_code == 200:\n",
    "        with open(database_file, 'wb') as file:\n",
    "            file.write(response.content)\n",
    "        print('file downloaded')\n",
    "    else:\n",
    "        raise Exception('could not download file')"
   ]
  }
 ],
 "metadata": {},
 "nbformat": 4,
 "nbformat_minor": 2
}
